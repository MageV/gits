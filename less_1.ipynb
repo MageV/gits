{
 "cells": [
  {
   "cell_type": "code",
   "execution_count": null,
   "metadata": {},
   "outputs": [],
   "source": []
  },
  {
   "cell_type": "code",
   "execution_count": 7,
   "metadata": {},
   "outputs": [
    {
     "name": "stdout",
     "output_type": "stream",
     "text": [
      "Угадай число от 0 до 10\n",
      "Введено:1.не угадал\n",
      "Введено:2.не угадал\n",
      "Введено:3.не угадал\n",
      "Введено:4.не угадал\n",
      "Введено:5.не угадал\n",
      "угадал. Это число 6\n"
     ]
    }
   ],
   "source": [
    "import random\n",
    "print('Угадай число от 0 до 10')\n",
    "random.seed()\n",
    "target=random.randint(0,10)\n",
    "while True:    \n",
    "    nump=int(input())\n",
    "    if nump==target:        \n",
    "        break\n",
    "    else:\n",
    "        print(f'Введено:{nump}.не угадал')\n",
    "print(f'угадал. Это число {target}')\n"
   ]
  }
 ],
 "metadata": {
  "kernelspec": {
   "display_name": "base",
   "language": "python",
   "name": "python3"
  },
  "language_info": {
   "codemirror_mode": {
    "name": "ipython",
    "version": 3
   },
   "file_extension": ".py",
   "mimetype": "text/x-python",
   "name": "python",
   "nbconvert_exporter": "python",
   "pygments_lexer": "ipython3",
   "version": "3.10.9"
  }
 },
 "nbformat": 4,
 "nbformat_minor": 2
}
